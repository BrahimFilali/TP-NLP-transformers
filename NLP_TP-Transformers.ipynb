{
  "nbformat": 4,
  "nbformat_minor": 5,
  "metadata": {
    "kernelspec": {
      "display_name": "Python 3",
      "language": "python",
      "name": "python3"
    },
    "language_info": {
      "codemirror_mode": {
        "name": "ipython",
        "version": 3
      },
      "file_extension": ".py",
      "mimetype": "text/x-python",
      "name": "python",
      "nbconvert_exporter": "python",
      "pygments_lexer": "ipython3",
      "version": "3.8.8"
    },
    "colab": {
      "name": "NLP_TP_HuggingFace_Transformers.ipynb",
      "provenance": [],
      "collapsed_sections": []
    },
    "widgets": {
      "application/vnd.jupyter.widget-state+json": {
        "6b44484504014f43a755ed471657cab3": {
          "model_module": "@jupyter-widgets/controls",
          "model_name": "HBoxModel",
          "state": {
            "_view_name": "HBoxView",
            "_dom_classes": [],
            "_model_name": "HBoxModel",
            "_view_module": "@jupyter-widgets/controls",
            "_model_module_version": "1.5.0",
            "_view_count": null,
            "_view_module_version": "1.5.0",
            "box_style": "",
            "layout": "IPY_MODEL_c8337871bd384c12bf543f6cf21cc0fa",
            "_model_module": "@jupyter-widgets/controls",
            "children": [
              "IPY_MODEL_8ffc79499f63482b82122e66a9811d7a",
              "IPY_MODEL_14fff933a0b24375804d082133a4dd59"
            ]
          }
        },
        "c8337871bd384c12bf543f6cf21cc0fa": {
          "model_module": "@jupyter-widgets/base",
          "model_name": "LayoutModel",
          "state": {
            "_view_name": "LayoutView",
            "grid_template_rows": null,
            "right": null,
            "justify_content": null,
            "_view_module": "@jupyter-widgets/base",
            "overflow": null,
            "_model_module_version": "1.2.0",
            "_view_count": null,
            "flex_flow": null,
            "width": null,
            "min_width": null,
            "border": null,
            "align_items": null,
            "bottom": null,
            "_model_module": "@jupyter-widgets/base",
            "top": null,
            "grid_column": null,
            "overflow_y": null,
            "overflow_x": null,
            "grid_auto_flow": null,
            "grid_area": null,
            "grid_template_columns": null,
            "flex": null,
            "_model_name": "LayoutModel",
            "justify_items": null,
            "grid_row": null,
            "max_height": null,
            "align_content": null,
            "visibility": null,
            "align_self": null,
            "height": null,
            "min_height": null,
            "padding": null,
            "grid_auto_rows": null,
            "grid_gap": null,
            "max_width": null,
            "order": null,
            "_view_module_version": "1.2.0",
            "grid_template_areas": null,
            "object_position": null,
            "object_fit": null,
            "grid_auto_columns": null,
            "margin": null,
            "display": null,
            "left": null
          }
        },
        "8ffc79499f63482b82122e66a9811d7a": {
          "model_module": "@jupyter-widgets/controls",
          "model_name": "FloatProgressModel",
          "state": {
            "_view_name": "ProgressView",
            "style": "IPY_MODEL_0beead98f5b1460d976ed506a1123129",
            "_dom_classes": [],
            "description": "Downloading: 100%",
            "_model_name": "FloatProgressModel",
            "bar_style": "success",
            "max": 5069051,
            "_view_module": "@jupyter-widgets/controls",
            "_model_module_version": "1.5.0",
            "value": 5069051,
            "_view_count": null,
            "_view_module_version": "1.5.0",
            "orientation": "horizontal",
            "min": 0,
            "description_tooltip": null,
            "_model_module": "@jupyter-widgets/controls",
            "layout": "IPY_MODEL_e38ebc8c13374d81b2a55e7741777e36"
          }
        },
        "14fff933a0b24375804d082133a4dd59": {
          "model_module": "@jupyter-widgets/controls",
          "model_name": "HTMLModel",
          "state": {
            "_view_name": "HTMLView",
            "style": "IPY_MODEL_98267d9b90f441508572dac91e2755e8",
            "_dom_classes": [],
            "description": "",
            "_model_name": "HTMLModel",
            "placeholder": "​",
            "_view_module": "@jupyter-widgets/controls",
            "_model_module_version": "1.5.0",
            "value": " 5.07M/5.07M [00:02&lt;00:00, 2.02MB/s]",
            "_view_count": null,
            "_view_module_version": "1.5.0",
            "description_tooltip": null,
            "_model_module": "@jupyter-widgets/controls",
            "layout": "IPY_MODEL_7b56fac5f5ae423cb032278a4d40c874"
          }
        },
        "0beead98f5b1460d976ed506a1123129": {
          "model_module": "@jupyter-widgets/controls",
          "model_name": "ProgressStyleModel",
          "state": {
            "_view_name": "StyleView",
            "_model_name": "ProgressStyleModel",
            "description_width": "initial",
            "_view_module": "@jupyter-widgets/base",
            "_model_module_version": "1.5.0",
            "_view_count": null,
            "_view_module_version": "1.2.0",
            "bar_color": null,
            "_model_module": "@jupyter-widgets/controls"
          }
        },
        "e38ebc8c13374d81b2a55e7741777e36": {
          "model_module": "@jupyter-widgets/base",
          "model_name": "LayoutModel",
          "state": {
            "_view_name": "LayoutView",
            "grid_template_rows": null,
            "right": null,
            "justify_content": null,
            "_view_module": "@jupyter-widgets/base",
            "overflow": null,
            "_model_module_version": "1.2.0",
            "_view_count": null,
            "flex_flow": null,
            "width": null,
            "min_width": null,
            "border": null,
            "align_items": null,
            "bottom": null,
            "_model_module": "@jupyter-widgets/base",
            "top": null,
            "grid_column": null,
            "overflow_y": null,
            "overflow_x": null,
            "grid_auto_flow": null,
            "grid_area": null,
            "grid_template_columns": null,
            "flex": null,
            "_model_name": "LayoutModel",
            "justify_items": null,
            "grid_row": null,
            "max_height": null,
            "align_content": null,
            "visibility": null,
            "align_self": null,
            "height": null,
            "min_height": null,
            "padding": null,
            "grid_auto_rows": null,
            "grid_gap": null,
            "max_width": null,
            "order": null,
            "_view_module_version": "1.2.0",
            "grid_template_areas": null,
            "object_position": null,
            "object_fit": null,
            "grid_auto_columns": null,
            "margin": null,
            "display": null,
            "left": null
          }
        },
        "98267d9b90f441508572dac91e2755e8": {
          "model_module": "@jupyter-widgets/controls",
          "model_name": "DescriptionStyleModel",
          "state": {
            "_view_name": "StyleView",
            "_model_name": "DescriptionStyleModel",
            "description_width": "",
            "_view_module": "@jupyter-widgets/base",
            "_model_module_version": "1.5.0",
            "_view_count": null,
            "_view_module_version": "1.2.0",
            "_model_module": "@jupyter-widgets/controls"
          }
        },
        "7b56fac5f5ae423cb032278a4d40c874": {
          "model_module": "@jupyter-widgets/base",
          "model_name": "LayoutModel",
          "state": {
            "_view_name": "LayoutView",
            "grid_template_rows": null,
            "right": null,
            "justify_content": null,
            "_view_module": "@jupyter-widgets/base",
            "overflow": null,
            "_model_module_version": "1.2.0",
            "_view_count": null,
            "flex_flow": null,
            "width": null,
            "min_width": null,
            "border": null,
            "align_items": null,
            "bottom": null,
            "_model_module": "@jupyter-widgets/base",
            "top": null,
            "grid_column": null,
            "overflow_y": null,
            "overflow_x": null,
            "grid_auto_flow": null,
            "grid_area": null,
            "grid_template_columns": null,
            "flex": null,
            "_model_name": "LayoutModel",
            "justify_items": null,
            "grid_row": null,
            "max_height": null,
            "align_content": null,
            "visibility": null,
            "align_self": null,
            "height": null,
            "min_height": null,
            "padding": null,
            "grid_auto_rows": null,
            "grid_gap": null,
            "max_width": null,
            "order": null,
            "_view_module_version": "1.2.0",
            "grid_template_areas": null,
            "object_position": null,
            "object_fit": null,
            "grid_auto_columns": null,
            "margin": null,
            "display": null,
            "left": null
          }
        },
        "16508220dc454cfa8f6359ae3db292b0": {
          "model_module": "@jupyter-widgets/controls",
          "model_name": "HBoxModel",
          "state": {
            "_view_name": "HBoxView",
            "_dom_classes": [],
            "_model_name": "HBoxModel",
            "_view_module": "@jupyter-widgets/controls",
            "_model_module_version": "1.5.0",
            "_view_count": null,
            "_view_module_version": "1.5.0",
            "box_style": "",
            "layout": "IPY_MODEL_c561e407f6754b68b093e96e0a93486c",
            "_model_module": "@jupyter-widgets/controls",
            "children": [
              "IPY_MODEL_ce7f6996911b4f8199924cbfdbd7cd04",
              "IPY_MODEL_5653236b185e49c68fbb9639b9c23cb3"
            ]
          }
        },
        "c561e407f6754b68b093e96e0a93486c": {
          "model_module": "@jupyter-widgets/base",
          "model_name": "LayoutModel",
          "state": {
            "_view_name": "LayoutView",
            "grid_template_rows": null,
            "right": null,
            "justify_content": null,
            "_view_module": "@jupyter-widgets/base",
            "overflow": null,
            "_model_module_version": "1.2.0",
            "_view_count": null,
            "flex_flow": null,
            "width": null,
            "min_width": null,
            "border": null,
            "align_items": null,
            "bottom": null,
            "_model_module": "@jupyter-widgets/base",
            "top": null,
            "grid_column": null,
            "overflow_y": null,
            "overflow_x": null,
            "grid_auto_flow": null,
            "grid_area": null,
            "grid_template_columns": null,
            "flex": null,
            "_model_name": "LayoutModel",
            "justify_items": null,
            "grid_row": null,
            "max_height": null,
            "align_content": null,
            "visibility": null,
            "align_self": null,
            "height": null,
            "min_height": null,
            "padding": null,
            "grid_auto_rows": null,
            "grid_gap": null,
            "max_width": null,
            "order": null,
            "_view_module_version": "1.2.0",
            "grid_template_areas": null,
            "object_position": null,
            "object_fit": null,
            "grid_auto_columns": null,
            "margin": null,
            "display": null,
            "left": null
          }
        },
        "ce7f6996911b4f8199924cbfdbd7cd04": {
          "model_module": "@jupyter-widgets/controls",
          "model_name": "FloatProgressModel",
          "state": {
            "_view_name": "ProgressView",
            "style": "IPY_MODEL_2b684af2bd914047990aaa83894061ad",
            "_dom_classes": [],
            "description": "Downloading: 100%",
            "_model_name": "FloatProgressModel",
            "bar_style": "success",
            "max": 649,
            "_view_module": "@jupyter-widgets/controls",
            "_model_module_version": "1.5.0",
            "value": 649,
            "_view_count": null,
            "_view_module_version": "1.5.0",
            "orientation": "horizontal",
            "min": 0,
            "description_tooltip": null,
            "_model_module": "@jupyter-widgets/controls",
            "layout": "IPY_MODEL_4c33b5f4920344068287854720026149"
          }
        },
        "5653236b185e49c68fbb9639b9c23cb3": {
          "model_module": "@jupyter-widgets/controls",
          "model_name": "HTMLModel",
          "state": {
            "_view_name": "HTMLView",
            "style": "IPY_MODEL_690b3e09157a456e94914536e2ecbf26",
            "_dom_classes": [],
            "description": "",
            "_model_name": "HTMLModel",
            "placeholder": "​",
            "_view_module": "@jupyter-widgets/controls",
            "_model_module_version": "1.5.0",
            "value": " 649/649 [00:00&lt;00:00, 840B/s]",
            "_view_count": null,
            "_view_module_version": "1.5.0",
            "description_tooltip": null,
            "_model_module": "@jupyter-widgets/controls",
            "layout": "IPY_MODEL_24338d0496b645a1a025f19037f18aa5"
          }
        },
        "2b684af2bd914047990aaa83894061ad": {
          "model_module": "@jupyter-widgets/controls",
          "model_name": "ProgressStyleModel",
          "state": {
            "_view_name": "StyleView",
            "_model_name": "ProgressStyleModel",
            "description_width": "initial",
            "_view_module": "@jupyter-widgets/base",
            "_model_module_version": "1.5.0",
            "_view_count": null,
            "_view_module_version": "1.2.0",
            "bar_color": null,
            "_model_module": "@jupyter-widgets/controls"
          }
        },
        "4c33b5f4920344068287854720026149": {
          "model_module": "@jupyter-widgets/base",
          "model_name": "LayoutModel",
          "state": {
            "_view_name": "LayoutView",
            "grid_template_rows": null,
            "right": null,
            "justify_content": null,
            "_view_module": "@jupyter-widgets/base",
            "overflow": null,
            "_model_module_version": "1.2.0",
            "_view_count": null,
            "flex_flow": null,
            "width": null,
            "min_width": null,
            "border": null,
            "align_items": null,
            "bottom": null,
            "_model_module": "@jupyter-widgets/base",
            "top": null,
            "grid_column": null,
            "overflow_y": null,
            "overflow_x": null,
            "grid_auto_flow": null,
            "grid_area": null,
            "grid_template_columns": null,
            "flex": null,
            "_model_name": "LayoutModel",
            "justify_items": null,
            "grid_row": null,
            "max_height": null,
            "align_content": null,
            "visibility": null,
            "align_self": null,
            "height": null,
            "min_height": null,
            "padding": null,
            "grid_auto_rows": null,
            "grid_gap": null,
            "max_width": null,
            "order": null,
            "_view_module_version": "1.2.0",
            "grid_template_areas": null,
            "object_position": null,
            "object_fit": null,
            "grid_auto_columns": null,
            "margin": null,
            "display": null,
            "left": null
          }
        },
        "690b3e09157a456e94914536e2ecbf26": {
          "model_module": "@jupyter-widgets/controls",
          "model_name": "DescriptionStyleModel",
          "state": {
            "_view_name": "StyleView",
            "_model_name": "DescriptionStyleModel",
            "description_width": "",
            "_view_module": "@jupyter-widgets/base",
            "_model_module_version": "1.5.0",
            "_view_count": null,
            "_view_module_version": "1.2.0",
            "_model_module": "@jupyter-widgets/controls"
          }
        },
        "24338d0496b645a1a025f19037f18aa5": {
          "model_module": "@jupyter-widgets/base",
          "model_name": "LayoutModel",
          "state": {
            "_view_name": "LayoutView",
            "grid_template_rows": null,
            "right": null,
            "justify_content": null,
            "_view_module": "@jupyter-widgets/base",
            "overflow": null,
            "_model_module_version": "1.2.0",
            "_view_count": null,
            "flex_flow": null,
            "width": null,
            "min_width": null,
            "border": null,
            "align_items": null,
            "bottom": null,
            "_model_module": "@jupyter-widgets/base",
            "top": null,
            "grid_column": null,
            "overflow_y": null,
            "overflow_x": null,
            "grid_auto_flow": null,
            "grid_area": null,
            "grid_template_columns": null,
            "flex": null,
            "_model_name": "LayoutModel",
            "justify_items": null,
            "grid_row": null,
            "max_height": null,
            "align_content": null,
            "visibility": null,
            "align_self": null,
            "height": null,
            "min_height": null,
            "padding": null,
            "grid_auto_rows": null,
            "grid_gap": null,
            "max_width": null,
            "order": null,
            "_view_module_version": "1.2.0",
            "grid_template_areas": null,
            "object_position": null,
            "object_fit": null,
            "grid_auto_columns": null,
            "margin": null,
            "display": null,
            "left": null
          }
        },
        "09fabcb54c0e42568124f91f56a22288": {
          "model_module": "@jupyter-widgets/controls",
          "model_name": "HBoxModel",
          "state": {
            "_view_name": "HBoxView",
            "_dom_classes": [],
            "_model_name": "HBoxModel",
            "_view_module": "@jupyter-widgets/controls",
            "_model_module_version": "1.5.0",
            "_view_count": null,
            "_view_module_version": "1.5.0",
            "box_style": "",
            "layout": "IPY_MODEL_6b12fbd162f54d88bd0a9bb73421356d",
            "_model_module": "@jupyter-widgets/controls",
            "children": [
              "IPY_MODEL_2e36e37457d4439a91bf9ac538356ee5",
              "IPY_MODEL_23ec9403ed1e4ca1848ffa302bffc0d9"
            ]
          }
        },
        "6b12fbd162f54d88bd0a9bb73421356d": {
          "model_module": "@jupyter-widgets/base",
          "model_name": "LayoutModel",
          "state": {
            "_view_name": "LayoutView",
            "grid_template_rows": null,
            "right": null,
            "justify_content": null,
            "_view_module": "@jupyter-widgets/base",
            "overflow": null,
            "_model_module_version": "1.2.0",
            "_view_count": null,
            "flex_flow": null,
            "width": null,
            "min_width": null,
            "border": null,
            "align_items": null,
            "bottom": null,
            "_model_module": "@jupyter-widgets/base",
            "top": null,
            "grid_column": null,
            "overflow_y": null,
            "overflow_x": null,
            "grid_auto_flow": null,
            "grid_area": null,
            "grid_template_columns": null,
            "flex": null,
            "_model_name": "LayoutModel",
            "justify_items": null,
            "grid_row": null,
            "max_height": null,
            "align_content": null,
            "visibility": null,
            "align_self": null,
            "height": null,
            "min_height": null,
            "padding": null,
            "grid_auto_rows": null,
            "grid_gap": null,
            "max_width": null,
            "order": null,
            "_view_module_version": "1.2.0",
            "grid_template_areas": null,
            "object_position": null,
            "object_fit": null,
            "grid_auto_columns": null,
            "margin": null,
            "display": null,
            "left": null
          }
        },
        "2e36e37457d4439a91bf9ac538356ee5": {
          "model_module": "@jupyter-widgets/controls",
          "model_name": "FloatProgressModel",
          "state": {
            "_view_name": "ProgressView",
            "style": "IPY_MODEL_9fb8837de7db41809317b4b316813b4f",
            "_dom_classes": [],
            "description": "Downloading: 100%",
            "_model_name": "FloatProgressModel",
            "bar_style": "success",
            "max": 529,
            "_view_module": "@jupyter-widgets/controls",
            "_model_module_version": "1.5.0",
            "value": 529,
            "_view_count": null,
            "_view_module_version": "1.5.0",
            "orientation": "horizontal",
            "min": 0,
            "description_tooltip": null,
            "_model_module": "@jupyter-widgets/controls",
            "layout": "IPY_MODEL_f7bb215f0679446ea7b776ba48d957c0"
          }
        },
        "23ec9403ed1e4ca1848ffa302bffc0d9": {
          "model_module": "@jupyter-widgets/controls",
          "model_name": "HTMLModel",
          "state": {
            "_view_name": "HTMLView",
            "style": "IPY_MODEL_3fae572982f14e7094d947507f8de719",
            "_dom_classes": [],
            "description": "",
            "_model_name": "HTMLModel",
            "placeholder": "​",
            "_view_module": "@jupyter-widgets/controls",
            "_model_module_version": "1.5.0",
            "value": " 529/529 [00:01&lt;00:00, 336B/s]",
            "_view_count": null,
            "_view_module_version": "1.5.0",
            "description_tooltip": null,
            "_model_module": "@jupyter-widgets/controls",
            "layout": "IPY_MODEL_e5678bb9fd644cb6a43a9be7de9c06f1"
          }
        },
        "9fb8837de7db41809317b4b316813b4f": {
          "model_module": "@jupyter-widgets/controls",
          "model_name": "ProgressStyleModel",
          "state": {
            "_view_name": "StyleView",
            "_model_name": "ProgressStyleModel",
            "description_width": "initial",
            "_view_module": "@jupyter-widgets/base",
            "_model_module_version": "1.5.0",
            "_view_count": null,
            "_view_module_version": "1.2.0",
            "bar_color": null,
            "_model_module": "@jupyter-widgets/controls"
          }
        },
        "f7bb215f0679446ea7b776ba48d957c0": {
          "model_module": "@jupyter-widgets/base",
          "model_name": "LayoutModel",
          "state": {
            "_view_name": "LayoutView",
            "grid_template_rows": null,
            "right": null,
            "justify_content": null,
            "_view_module": "@jupyter-widgets/base",
            "overflow": null,
            "_model_module_version": "1.2.0",
            "_view_count": null,
            "flex_flow": null,
            "width": null,
            "min_width": null,
            "border": null,
            "align_items": null,
            "bottom": null,
            "_model_module": "@jupyter-widgets/base",
            "top": null,
            "grid_column": null,
            "overflow_y": null,
            "overflow_x": null,
            "grid_auto_flow": null,
            "grid_area": null,
            "grid_template_columns": null,
            "flex": null,
            "_model_name": "LayoutModel",
            "justify_items": null,
            "grid_row": null,
            "max_height": null,
            "align_content": null,
            "visibility": null,
            "align_self": null,
            "height": null,
            "min_height": null,
            "padding": null,
            "grid_auto_rows": null,
            "grid_gap": null,
            "max_width": null,
            "order": null,
            "_view_module_version": "1.2.0",
            "grid_template_areas": null,
            "object_position": null,
            "object_fit": null,
            "grid_auto_columns": null,
            "margin": null,
            "display": null,
            "left": null
          }
        },
        "3fae572982f14e7094d947507f8de719": {
          "model_module": "@jupyter-widgets/controls",
          "model_name": "DescriptionStyleModel",
          "state": {
            "_view_name": "StyleView",
            "_model_name": "DescriptionStyleModel",
            "description_width": "",
            "_view_module": "@jupyter-widgets/base",
            "_model_module_version": "1.5.0",
            "_view_count": null,
            "_view_module_version": "1.2.0",
            "_model_module": "@jupyter-widgets/controls"
          }
        },
        "e5678bb9fd644cb6a43a9be7de9c06f1": {
          "model_module": "@jupyter-widgets/base",
          "model_name": "LayoutModel",
          "state": {
            "_view_name": "LayoutView",
            "grid_template_rows": null,
            "right": null,
            "justify_content": null,
            "_view_module": "@jupyter-widgets/base",
            "overflow": null,
            "_model_module_version": "1.2.0",
            "_view_count": null,
            "flex_flow": null,
            "width": null,
            "min_width": null,
            "border": null,
            "align_items": null,
            "bottom": null,
            "_model_module": "@jupyter-widgets/base",
            "top": null,
            "grid_column": null,
            "overflow_y": null,
            "overflow_x": null,
            "grid_auto_flow": null,
            "grid_area": null,
            "grid_template_columns": null,
            "flex": null,
            "_model_name": "LayoutModel",
            "justify_items": null,
            "grid_row": null,
            "max_height": null,
            "align_content": null,
            "visibility": null,
            "align_self": null,
            "height": null,
            "min_height": null,
            "padding": null,
            "grid_auto_rows": null,
            "grid_gap": null,
            "max_width": null,
            "order": null,
            "_view_module_version": "1.2.0",
            "grid_template_areas": null,
            "object_position": null,
            "object_fit": null,
            "grid_auto_columns": null,
            "margin": null,
            "display": null,
            "left": null
          }
        }
      }
    }
  },
  "cells": [
    {
      "cell_type": "markdown",
      "metadata": {
        "id": "4fc265b0"
      },
      "source": [
        "# NLP_TP Transformers \n"
      ],
      "id": "4fc265b0"
    },
    {
      "cell_type": "markdown",
      "metadata": {
        "id": "145be2de"
      },
      "source": [
        "## 01- Sentiment analysis"
      ],
      "id": "145be2de"
    },
    {
      "cell_type": "code",
      "metadata": {
        "colab": {
          "base_uri": "https://localhost:8080/"
        },
        "id": "583ef981",
        "outputId": "9d9f6111-4c40-43c4-faa3-fae61c43bb0d"
      },
      "source": [
        "!pip install transformers "
      ],
      "id": "583ef981",
      "execution_count": 18,
      "outputs": [
        {
          "output_type": "stream",
          "text": [
            "Requirement already satisfied: transformers in /usr/local/lib/python3.7/dist-packages (4.9.0)\n",
            "Requirement already satisfied: packaging in /usr/local/lib/python3.7/dist-packages (from transformers) (21.0)\n",
            "Requirement already satisfied: pyyaml>=5.1 in /usr/local/lib/python3.7/dist-packages (from transformers) (5.4.1)\n",
            "Requirement already satisfied: filelock in /usr/local/lib/python3.7/dist-packages (from transformers) (3.0.12)\n",
            "Requirement already satisfied: tokenizers<0.11,>=0.10.1 in /usr/local/lib/python3.7/dist-packages (from transformers) (0.10.3)\n",
            "Requirement already satisfied: requests in /usr/local/lib/python3.7/dist-packages (from transformers) (2.23.0)\n",
            "Requirement already satisfied: regex!=2019.12.17 in /usr/local/lib/python3.7/dist-packages (from transformers) (2019.12.20)\n",
            "Requirement already satisfied: tqdm>=4.27 in /usr/local/lib/python3.7/dist-packages (from transformers) (4.41.1)\n",
            "Requirement already satisfied: sacremoses in /usr/local/lib/python3.7/dist-packages (from transformers) (0.0.45)\n",
            "Requirement already satisfied: huggingface-hub==0.0.12 in /usr/local/lib/python3.7/dist-packages (from transformers) (0.0.12)\n",
            "Requirement already satisfied: numpy>=1.17 in /usr/local/lib/python3.7/dist-packages (from transformers) (1.19.5)\n",
            "Requirement already satisfied: importlib-metadata in /usr/local/lib/python3.7/dist-packages (from transformers) (4.6.1)\n",
            "Requirement already satisfied: typing-extensions in /usr/local/lib/python3.7/dist-packages (from huggingface-hub==0.0.12->transformers) (3.7.4.3)\n",
            "Requirement already satisfied: pyparsing>=2.0.2 in /usr/local/lib/python3.7/dist-packages (from packaging->transformers) (2.4.7)\n",
            "Requirement already satisfied: zipp>=0.5 in /usr/local/lib/python3.7/dist-packages (from importlib-metadata->transformers) (3.5.0)\n",
            "Requirement already satisfied: idna<3,>=2.5 in /usr/local/lib/python3.7/dist-packages (from requests->transformers) (2.10)\n",
            "Requirement already satisfied: certifi>=2017.4.17 in /usr/local/lib/python3.7/dist-packages (from requests->transformers) (2021.5.30)\n",
            "Requirement already satisfied: urllib3!=1.25.0,!=1.25.1,<1.26,>=1.21.1 in /usr/local/lib/python3.7/dist-packages (from requests->transformers) (1.24.3)\n",
            "Requirement already satisfied: chardet<4,>=3.0.2 in /usr/local/lib/python3.7/dist-packages (from requests->transformers) (3.0.4)\n",
            "Requirement already satisfied: joblib in /usr/local/lib/python3.7/dist-packages (from sacremoses->transformers) (1.0.1)\n",
            "Requirement already satisfied: click in /usr/local/lib/python3.7/dist-packages (from sacremoses->transformers) (7.1.2)\n",
            "Requirement already satisfied: six in /usr/local/lib/python3.7/dist-packages (from sacremoses->transformers) (1.15.0)\n"
          ],
          "name": "stdout"
        }
      ]
    },
    {
      "cell_type": "code",
      "metadata": {
        "scrolled": true,
        "colab": {
          "base_uri": "https://localhost:8080/"
        },
        "id": "10e24977",
        "outputId": "24112ed9-83d9-41cd-a742-e1a0b7332d43"
      },
      "source": [
        "from transformers import pipeline\n",
        "\n",
        "nlp = pipeline(\"sentiment-analysis\", model=\"nlptown/bert-base-multilingual-uncased-sentiment\")\n",
        "\n",
        "result = nlp(\"bien dit\")[0]\n",
        "print(result)\n",
        "print(f\"label: {result['label']}, with score: {round(result['score']*100, 2)}%\")\n",
        "\n",
        "result = nlp(\"mauvais travail\")[0]\n",
        "print(f\"label: {result['label']}, with score: {round(result['score']*100, 2)}%\")"
      ],
      "id": "10e24977",
      "execution_count": 17,
      "outputs": [
        {
          "output_type": "stream",
          "text": [
            "{'label': '4 stars', 'score': 0.4435526728630066}\n",
            "label: 4 stars, with score: 44.36%\n",
            "label: 1 star, with score: 72.54%\n"
          ],
          "name": "stdout"
        }
      ]
    },
    {
      "cell_type": "markdown",
      "metadata": {
        "id": "80f031f4"
      },
      "source": [
        "## 02- Text generation"
      ],
      "id": "80f031f4"
    },
    {
      "cell_type": "code",
      "metadata": {
        "scrolled": true,
        "id": "4668bfb2"
      },
      "source": [
        "from transformers import pipeline"
      ],
      "id": "4668bfb2",
      "execution_count": 19,
      "outputs": []
    },
    {
      "cell_type": "code",
      "metadata": {
        "colab": {
          "base_uri": "https://localhost:8080/"
        },
        "id": "63bf964e",
        "outputId": "7d975737-cdc1-4560-a6ad-55aa7224ba4a"
      },
      "source": [
        "# Frensh\n",
        "text_generator_fr = pipeline('text-generation', model='dbddv01/gpt2-french-small')\n",
        "\n",
        "print(text_generator_fr(\"je lis un\", max_length=50, do_sample=False))"
      ],
      "id": "63bf964e",
      "execution_count": 20,
      "outputs": [
        {
          "output_type": "stream",
          "text": [
            "Setting `pad_token_id` to `eos_token_id`:50256 for open-end generation.\n"
          ],
          "name": "stderr"
        },
        {
          "output_type": "stream",
          "text": [
            "[{'generated_text': \"je lis un texte de la main de l'empereur, qui est publié en 1212. Il est suivi par un autre texte, qui est publié en 1214. Il est suivi par un autre texte, qui est publié en 1218. Il\"}]\n"
          ],
          "name": "stdout"
        }
      ]
    },
    {
      "cell_type": "code",
      "metadata": {
        "colab": {
          "base_uri": "https://localhost:8080/"
        },
        "id": "bc8556ac",
        "outputId": "67a9e4d0-e6d2-441b-9b41-bd0a0e530d82"
      },
      "source": [
        "# Arabic\n",
        "text_generator_Ar = pipeline('text-generation', model='akhooli/gpt2-small-arabic')\n",
        "print(text_generator_Ar(\"في المغرب السياحة الجبلية \", max_length=50, do_sample=False))\n"
      ],
      "id": "bc8556ac",
      "execution_count": 21,
      "outputs": [
        {
          "output_type": "stream",
          "text": [
            "Setting `pad_token_id` to `eos_token_id`:50256 for open-end generation.\n"
          ],
          "name": "stderr"
        },
        {
          "output_type": "stream",
          "text": [
            "[{'generated_text': 'في المغرب السياحة الجبلية ادياد، كما يوجد بها العديد من المساجد، منها مسجد سيدي عبد الله، ومسجد سيدي عبد الله، ومسجد سيدي عبد الله، ومسجد سيدي عبد الله، ومسجد سيدي عبد الله، ومسجد سيدي عبد الله، ومسجد سيدي عبد الله'}]\n"
          ],
          "name": "stdout"
        }
      ]
    },
    {
      "cell_type": "markdown",
      "metadata": {
        "id": "1af36c17"
      },
      "source": [
        "## 03- Name entity recognition (NER)"
      ],
      "id": "1af36c17"
    },
    {
      "cell_type": "code",
      "metadata": {
        "colab": {
          "base_uri": "https://localhost:8080/"
        },
        "id": "3a2364c9",
        "outputId": "4fef81d1-b475-412d-c977-8eb4595ce87d"
      },
      "source": [
        "\n",
        "from transformers import AutoTokenizer, AutoModelForTokenClassification\n",
        "from transformers import pipeline\n",
        "\n",
        "ner_english_recognition = pipeline(\"ner\", model=\"dslim/bert-base-NER\", tokenizer=\"dslim/bert-base-NER\")\n",
        "ner_arabic_recognition = pipeline(\"ner\", model=\"hatmimoha/arabic-ner\", tokenizer=\"hatmimoha/arabic-ner\")\n",
        "ner_french_recognition = pipeline(\"ner\", model=\"gilf/french-postag-model\", tokenizer=\"gilf/french-postag-model\")\n",
        "\n",
        "print(ner_arabic_recognition(\"في المغرب السياحة الجبلية\"))\n",
        " \n",
        "print(ner_english_recognition(\"good time\"))\n",
        "\n",
        "print(ner_french_recognition(\"je lis un\"))"
      ],
      "id": "3a2364c9",
      "execution_count": 22,
      "outputs": [
        {
          "output_type": "stream",
          "text": [
            "Asking to truncate to max_length but no maximum length is provided and the model has no predefined maximum length. Default to no truncation.\n"
          ],
          "name": "stderr"
        },
        {
          "output_type": "stream",
          "text": [
            "[{'entity': 'LABEL_12', 'score': 0.9995651, 'index': 1, 'word': 'في', 'start': 0, 'end': 2}, {'entity': 'LABEL_4', 'score': 0.99893975, 'index': 2, 'word': 'المغرب', 'start': 3, 'end': 9}, {'entity': 'LABEL_12', 'score': 0.99967027, 'index': 3, 'word': 'السياحة', 'start': 10, 'end': 17}, {'entity': 'LABEL_12', 'score': 0.9997578, 'index': 4, 'word': 'الجبلية', 'start': 18, 'end': 25}]\n",
            "[]\n",
            "[{'entity': 'CLS', 'score': 0.99967825, 'index': 1, 'word': 'je', 'start': 0, 'end': 2}, {'entity': 'V', 'score': 0.9995579, 'index': 2, 'word': 'li', 'start': 3, 'end': 5}, {'entity': 'V', 'score': 0.9974327, 'index': 3, 'word': '##s', 'start': 5, 'end': 6}, {'entity': 'DET', 'score': 0.9900251, 'index': 4, 'word': 'un', 'start': 7, 'end': 9}]\n"
          ],
          "name": "stdout"
        }
      ]
    },
    {
      "cell_type": "markdown",
      "metadata": {
        "id": "dff416e2"
      },
      "source": [
        "## 04- Question answering"
      ],
      "id": "dff416e2"
    },
    {
      "cell_type": "code",
      "metadata": {
        "colab": {
          "base_uri": "https://localhost:8080/"
        },
        "id": "511e712a",
        "outputId": "7c74ef42-77d4-493a-d166-98b633d117d3"
      },
      "source": [
        "from transformers import pipeline\n",
        "question_answering = pipeline(\"question-answering\")\n",
        "context = \"\"\"\n",
        "Le ville de Salé se trouve dans le plateau côtier large de 10 à 50 km, formé de plaines douces inclinées vers l’Océan Atlantique qui s'étend de Rabat-Salé à Skhirate-Témara, et du littoral atlantique au barrage Sidi Mohammed ben Abdellah9. L'altitude de la ville de Salé et du plateau côtier tout entier ne dépasse pas les 100 m10. Le fleuve Bouregreg qui sépare Rabat et Salé, donne une vallée plus ou moins large selon les endroits, pénétrant d’une quinzaine de kilomètres en amont de l’embouchure, surplombée par les plateaux de Bettana, Sala Al Jadida et de la commune rurale de Shoul du côté de Salé, et par ceux des quartiers de Hassan, El Youssoufia, Nahda et Akkrach du côté de Rabat. L'« arrière-pays » de Rabat-Salé est plutôt vert loin de l'urbanisation de masse, notamment grâce à la présence des forêts de la Mamora et de Témara, à proximité.\n",
        "\"\"\"\n",
        "question = \"Quelle est Sala Al Jadida?\"\n",
        "result = question_answering(question=question, context=context)\n",
        "print(\"Reponse:\", result['answer'])\n",
        "\n",
        "\n"
      ],
      "id": "511e712a",
      "execution_count": 23,
      "outputs": [
        {
          "output_type": "stream",
          "text": [
            "Reponse: commune rurale de Shoul du côté de Salé\n"
          ],
          "name": "stdout"
        }
      ]
    },
    {
      "cell_type": "markdown",
      "metadata": {
        "id": "c9a9c291"
      },
      "source": [
        "## 05- Filling masked text"
      ],
      "id": "c9a9c291"
    },
    {
      "cell_type": "code",
      "metadata": {
        "scrolled": true,
        "colab": {
          "base_uri": "https://localhost:8080/"
        },
        "id": "3c913305",
        "outputId": "0b4dafe1-c4ab-4fee-fc0a-6bef5384d0b8"
      },
      "source": [
        "from transformers import pipeline\n",
        "\n",
        "nlp = pipeline(\"fill-mask\")\n",
        "\n",
        "from pprint import pprint\n",
        "pprint(nlp(f\"Les coronavirus sont des {nlp.tokenizer.mask_token} de la famille des Coronaviridae.\"))\n",
        "\n"
      ],
      "id": "3c913305",
      "execution_count": 24,
      "outputs": [
        {
          "output_type": "stream",
          "text": [
            "[{'score': 0.07141309231519699,\n",
            "  'sequence': 'Les coronavirus sont des fins de la famille des Coronaviridae.',\n",
            "  'token': 40863,\n",
            "  'token_str': ' fins'},\n",
            " {'score': 0.06041441485285759,\n",
            "  'sequence': 'Les coronavirus sont des mutations de la famille des '\n",
            "              'Coronaviridae.',\n",
            "  'token': 28513,\n",
            "  'token_str': ' mutations'},\n",
            " {'score': 0.04682723805308342,\n",
            "  'sequence': 'Les coronavirus sont des clones de la famille des '\n",
            "              'Coronaviridae.',\n",
            "  'token': 44001,\n",
            "  'token_str': ' clones'},\n",
            " {'score': 0.04283905029296875,\n",
            "  'sequence': 'Les coronavirus sont des parasites de la famille des '\n",
            "              'Coronaviridae.',\n",
            "  'token': 37891,\n",
            "  'token_str': ' parasites'},\n",
            " {'score': 0.04136002063751221,\n",
            "  'sequence': 'Les coronavirus sont des genes de la famille des Coronaviridae.',\n",
            "  'token': 14819,\n",
            "  'token_str': ' genes'}]\n"
          ],
          "name": "stdout"
        }
      ]
    },
    {
      "cell_type": "code",
      "metadata": {
        "colab": {
          "base_uri": "https://localhost:8080/"
        },
        "id": "cc8ba494",
        "outputId": "77ed09b5-e13d-4096-80ac-99140e943bc8"
      },
      "source": [
        "#Arabic\n",
        "arabic_fill_mask = pipeline('fill-mask', model='CAMeL-Lab/bert-base-camelbert-ca')\n",
        "pprint(arabic_fill_mask(\"جمعيات تدق ناقوس الخطر بشأن استنزاف الموارد[MASK]‬ بالجنوب الشرقي .\"))"
      ],
      "id": "cc8ba494",
      "execution_count": 25,
      "outputs": [
        {
          "output_type": "stream",
          "text": [
            "Some weights of the model checkpoint at CAMeL-Lab/bert-base-camelbert-ca were not used when initializing BertForMaskedLM: ['cls.seq_relationship.bias', 'cls.seq_relationship.weight']\n",
            "- This IS expected if you are initializing BertForMaskedLM from the checkpoint of a model trained on another task or with another architecture (e.g. initializing a BertForSequenceClassification model from a BertForPreTraining model).\n",
            "- This IS NOT expected if you are initializing BertForMaskedLM from the checkpoint of a model that you expect to be exactly identical (initializing a BertForSequenceClassification model from a BertForSequenceClassification model).\n"
          ],
          "name": "stderr"
        },
        {
          "output_type": "stream",
          "text": [
            "[{'score': 0.1141398623585701,\n",
            "  'sequence': 'جمعيات تدق ناقوس الخطر بشأن استنزاف الموارد التي بالجنوب '\n",
            "              'الشرقي.',\n",
            "  'token': 2061,\n",
            "  'token_str': 'التي'},\n",
            " {'score': 0.03722381964325905,\n",
            "  'sequence': 'جمعيات تدق ناقوس الخطر بشأن استنزاف الموارد المعروفة بالجنوب '\n",
            "              'الشرقي.',\n",
            "  'token': 14983,\n",
            "  'token_str': 'المعروفة'},\n",
            " {'score': 0.03433220461010933,\n",
            "  'sequence': 'جمعيات تدق ناقوس الخطر بشأن استنزاف الموارد الواردة بالجنوب '\n",
            "              'الشرقي.',\n",
            "  'token': 13647,\n",
            "  'token_str': 'الواردة'},\n",
            " {'score': 0.01363301184028387,\n",
            "  'sequence': 'جمعيات تدق ناقوس الخطر بشأن استنزاف الموارد الكثيرة بالجنوب '\n",
            "              'الشرقي.',\n",
            "  'token': 18894,\n",
            "  'token_str': 'الكثيرة'},\n",
            " {'score': 0.013485224917531013,\n",
            "  'sequence': 'جمعيات تدق ناقوس الخطر بشأن استنزاف الموارد الاقتصادية بالجنوب '\n",
            "              'الشرقي.',\n",
            "  'token': 5139,\n",
            "  'token_str': 'الاقتصادية'}]\n"
          ],
          "name": "stdout"
        }
      ]
    },
    {
      "cell_type": "markdown",
      "metadata": {
        "id": "6f56d9cc"
      },
      "source": [
        "## 06- Summarization"
      ],
      "id": "6f56d9cc"
    },
    {
      "cell_type": "code",
      "metadata": {
        "colab": {
          "base_uri": "https://localhost:8080/"
        },
        "id": "6186b099",
        "outputId": "4ad638b3-9a4c-429e-de28-565f368c9993"
      },
      "source": [
        "from transformers import pipeline\n",
        "\n",
        "summarizer = pipeline(\"summarization\")\n",
        "\n",
        "ARTICLE = \"\"\" \n",
        "Le Maroc était connu sous le nom de royaume de Marrakech, sous les trois dynasties qui avaient cette ville comme capitale. Puis, sous le nom de royaume de Fès, sous les dynasties qui résidaient à Fès. Au xixe siècle, les cartographes européens mentionnaient toujours un « royaume de Maroc », en indiquant l'ancienne capitale « Maroc » (pour Marrakech). Sous la dynastie des Alaouites, toujours au pouvoir, le pays est passé de l'appellation d'« Empire chérifien » à celle de « royaume du Maroc » en 195725, le sultan Sidi Mohammed ben Youssef en devenant le roi, en tant que Mohammed V. Il peut être aussi surnommé « Royaume chérifien », en référence au souverain alaouite, descendant du prophète de l'islam Mahomet, qualifié de « chérif ».\n",
        "\"\"\"\n",
        "print(summarizer(ARTICLE, max_length=130, min_length=30, do_sample=False))"
      ],
      "id": "6186b099",
      "execution_count": 26,
      "outputs": [
        {
          "output_type": "stream",
          "text": [
            "[{'summary_text': \" Le Maroc était connu sous le nom de royaume de Marrakech, sous les trois dynasties . Sous la dynastie des Alaouites, toujours au pouvoir, le pays passé de l'appellation d'« Empire chérifien » to celle de 'royaume du Maroc » en 195725 .\"}]\n"
          ],
          "name": "stdout"
        }
      ]
    },
    {
      "cell_type": "markdown",
      "metadata": {
        "id": "d3e5558b"
      },
      "source": [
        "## 07- Translation"
      ],
      "id": "d3e5558b"
    },
    {
      "cell_type": "code",
      "metadata": {
        "scrolled": true,
        "colab": {
          "base_uri": "https://localhost:8080/"
        },
        "id": "5269606b",
        "outputId": "8cea9d0f-b82d-49c1-a27f-371f6af5d79c"
      },
      "source": [
        "from transformers import pipeline\n",
        "# English to french\n",
        "translator = pipeline(\"translation_en_to_fr\")\n",
        "from transformers import AutoTokenizer, AutoModelForSeq2SeqLM\n",
        "\n",
        "pprint(translator(\"This allows people to understand complex terms or phrases.\", max_length=40))\n"
      ],
      "id": "5269606b",
      "execution_count": 13,
      "outputs": [
        {
          "output_type": "stream",
          "text": [
            "[{'translation_text': 'Cela permet aux gens de comprendre des termes ou des '\n",
            "                      'expressions complexes.'}]\n"
          ],
          "name": "stdout"
        }
      ]
    },
    {
      "cell_type": "code",
      "metadata": {
        "colab": {
          "base_uri": "https://localhost:8080/"
        },
        "id": "a7451bc5",
        "outputId": "c4901140-8429-444c-873f-7fd97b12285d"
      },
      "source": [
        "# english to Arabic\n",
        "\n",
        "from transformers import MarianTokenizer, MarianMTModel\n",
        "\n",
        "tokenizer = MarianTokenizer.from_pretrained(\"marefa-nlp/marefa-mt-en-ar\")\n",
        "model = MarianMTModel.from_pretrained(\"marefa-nlp/marefa-mt-en-ar\")\n",
        "\n",
        "text = \"Mountain tourism in Morocco\"\n",
        "\n",
        "translated_tokens = model.generate(**tokenizer.prepare_seq2seq_batch(text, return_tensors=\"pt\"))\n",
        "Output_text = [tokenizer.decode(t, skip_special_tokens=True) for t in translated_tokens]\n",
        "\n",
        "print(Output_text)"
      ],
      "id": "a7451bc5",
      "execution_count": 14,
      "outputs": [
        {
          "output_type": "stream",
          "text": [
            "/usr/local/lib/python3.7/dist-packages/transformers/tokenization_utils_base.py:3351: FutureWarning: \n",
            "`prepare_seq2seq_batch` is deprecated and will be removed in version 5 of HuggingFace Transformers. Use the regular\n",
            "`__call__` method to prepare your inputs and the tokenizer under the `as_target_tokenizer` context manager to prepare\n",
            "your targets.\n",
            "\n",
            "Here is a short example:\n",
            "\n",
            "model_inputs = tokenizer(src_texts, ...)\n",
            "with tokenizer.as_target_tokenizer():\n",
            "    labels = tokenizer(tgt_texts, ...)\n",
            "model_inputs[\"labels\"] = labels[\"input_ids\"]\n",
            "\n",
            "See the documentation of your specific tokenizer for more details on the specific arguments to the tokenizer of choice.\n",
            "For a more complete example, see the implementation of `prepare_seq2seq_batch`.\n",
            "\n",
            "  warnings.warn(formatted_warning, FutureWarning)\n"
          ],
          "name": "stderr"
        },
        {
          "output_type": "stream",
          "text": [
            "['السياحة الجبلية في المغرب']\n"
          ],
          "name": "stdout"
        }
      ]
    },
    {
      "cell_type": "code",
      "metadata": {
        "colab": {
          "base_uri": "https://localhost:8080/",
          "height": 181,
          "referenced_widgets": [
            "6b44484504014f43a755ed471657cab3",
            "c8337871bd384c12bf543f6cf21cc0fa",
            "8ffc79499f63482b82122e66a9811d7a",
            "14fff933a0b24375804d082133a4dd59",
            "0beead98f5b1460d976ed506a1123129",
            "e38ebc8c13374d81b2a55e7741777e36",
            "98267d9b90f441508572dac91e2755e8",
            "7b56fac5f5ae423cb032278a4d40c874",
            "16508220dc454cfa8f6359ae3db292b0",
            "c561e407f6754b68b093e96e0a93486c",
            "ce7f6996911b4f8199924cbfdbd7cd04",
            "5653236b185e49c68fbb9639b9c23cb3",
            "2b684af2bd914047990aaa83894061ad",
            "4c33b5f4920344068287854720026149",
            "690b3e09157a456e94914536e2ecbf26",
            "24338d0496b645a1a025f19037f18aa5",
            "09fabcb54c0e42568124f91f56a22288",
            "6b12fbd162f54d88bd0a9bb73421356d",
            "2e36e37457d4439a91bf9ac538356ee5",
            "23ec9403ed1e4ca1848ffa302bffc0d9",
            "9fb8837de7db41809317b4b316813b4f",
            "f7bb215f0679446ea7b776ba48d957c0",
            "3fae572982f14e7094d947507f8de719",
            "e5678bb9fd644cb6a43a9be7de9c06f1"
          ]
        },
        "id": "e032ce8d",
        "outputId": "5076fd6e-f965-436f-c65d-58ace5647822"
      },
      "source": [
        "# Arabic to English\n",
        "from transformers import MBartForConditionalGeneration, MBart50TokenizerFast\n",
        "\n",
        "text_ar = \"السياحة الجبلية في المغرب\"\n",
        "\n",
        "model = MBartForConditionalGeneration.from_pretrained(\"facebook/mbart-large-50-many-to-many-mmt\")\n",
        "tokenizer = MBart50TokenizerFast.from_pretrained(\"facebook/mbart-large-50-many-to-many-mmt\")\n",
        "tokenizer.src_lang = \"ar_AR\"\n",
        "encoded_ar = tokenizer(text_ar, return_tensors=\"pt\")\n",
        "generated_tokens = model.generate(**encoded_ar, forced_bos_token_id=tokenizer.lang_code_to_id[\"en_XX\"])\n",
        "pprint(tokenizer.batch_decode(generated_tokens, skip_special_tokens=True))\n"
      ],
      "id": "e032ce8d",
      "execution_count": 15,
      "outputs": [
        {
          "output_type": "display_data",
          "data": {
            "application/vnd.jupyter.widget-view+json": {
              "model_id": "6b44484504014f43a755ed471657cab3",
              "version_minor": 0,
              "version_major": 2
            },
            "text/plain": [
              "HBox(children=(FloatProgress(value=0.0, description='Downloading', max=5069051.0, style=ProgressStyle(descript…"
            ]
          },
          "metadata": {
            "tags": []
          }
        },
        {
          "output_type": "stream",
          "text": [
            "\n"
          ],
          "name": "stdout"
        },
        {
          "output_type": "display_data",
          "data": {
            "application/vnd.jupyter.widget-view+json": {
              "model_id": "16508220dc454cfa8f6359ae3db292b0",
              "version_minor": 0,
              "version_major": 2
            },
            "text/plain": [
              "HBox(children=(FloatProgress(value=0.0, description='Downloading', max=649.0, style=ProgressStyle(description_…"
            ]
          },
          "metadata": {
            "tags": []
          }
        },
        {
          "output_type": "stream",
          "text": [
            "\n"
          ],
          "name": "stdout"
        },
        {
          "output_type": "display_data",
          "data": {
            "application/vnd.jupyter.widget-view+json": {
              "model_id": "09fabcb54c0e42568124f91f56a22288",
              "version_minor": 0,
              "version_major": 2
            },
            "text/plain": [
              "HBox(children=(FloatProgress(value=0.0, description='Downloading', max=529.0, style=ProgressStyle(description_…"
            ]
          },
          "metadata": {
            "tags": []
          }
        },
        {
          "output_type": "stream",
          "text": [
            "\n",
            "['Mountain tourism in Morocco.']\n"
          ],
          "name": "stdout"
        }
      ]
    },
    {
      "cell_type": "markdown",
      "metadata": {
        "id": "7531300a"
      },
      "source": [
        "## 08- Feature extraction"
      ],
      "id": "7531300a"
    },
    {
      "cell_type": "code",
      "metadata": {
        "colab": {
          "base_uri": "https://localhost:8080/"
        },
        "id": "f397f772",
        "outputId": "65ce663d-7f02-4a76-cbd3-2deac6026905"
      },
      "source": [
        "from sklearn.feature_extraction.text import CountVectorizer\n",
        "\n",
        "# sentences.\n",
        "sentences = [\n",
        "    \"This is a sample sentence\",\n",
        "    \"I am interested in politics\",\n",
        "    \"You are a very good software engineer, engineer.\",]\n",
        "\n",
        "vectorizer = CountVectorizer(stop_words='english')\n",
        "\n",
        "vectorizer.fit(sentences)\n",
        "\n",
        "vectorizer.get_feature_names()"
      ],
      "id": "f397f772",
      "execution_count": 16,
      "outputs": [
        {
          "output_type": "execute_result",
          "data": {
            "text/plain": [
              "['engineer',\n",
              " 'good',\n",
              " 'interested',\n",
              " 'politics',\n",
              " 'sample',\n",
              " 'sentence',\n",
              " 'software']"
            ]
          },
          "metadata": {
            "tags": []
          },
          "execution_count": 16
        }
      ]
    }
  ]
}